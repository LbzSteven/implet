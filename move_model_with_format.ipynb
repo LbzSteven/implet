{
 "cells": [
  {
   "cell_type": "code",
   "execution_count": 2,
   "id": "4e1ed93f-945d-4f13-9bde-5fce71305b3c",
   "metadata": {},
   "outputs": [],
   "source": [
    "import os\n",
    "import numpy as np\n",
    "\n",
    "from utils import *"
   ]
  },
  {
   "cell_type": "markdown",
   "id": "2f221f8b-e7c4-45a3-aec1-b782ac17c37c",
   "metadata": {},
   "source": [
    "# move GunPoint"
   ]
  },
  {
   "cell_type": "code",
   "execution_count": 17,
   "id": "0b2c8332-a236-4478-80b7-a4ecc9d3d699",
   "metadata": {},
   "outputs": [
    {
     "data": {
      "text/plain": [
       "['ECG200',\n",
       " 'Beef',\n",
       " 'ElectricDevices',\n",
       " 'Earthquakes',\n",
       " 'Wafer',\n",
       " 'PowerCons',\n",
       " 'NonInvasiveFetalECGThorax1',\n",
       " 'ECG5000',\n",
       " 'GunPoint',\n",
       " 'HandOutlines',\n",
       " 'CBF',\n",
       " 'FordA',\n",
       " 'TwoPatterns',\n",
       " 'UWaveGestureLibraryAll',\n",
       " 'Chinatown',\n",
       " 'Yoga',\n",
       " 'DistalPhalanxOutlineCorrect',\n",
       " 'Computers',\n",
       " 'ShapesAll',\n",
       " 'Strawberry']"
      ]
     },
     "execution_count": 17,
     "metadata": {},
     "output_type": "execute_result"
    }
   ],
   "source": [
    "selected_uni"
   ]
  },
  {
   "cell_type": "code",
   "execution_count": 28,
   "id": "ffa5b83a-675d-40de-9b1f-e62f0371213c",
   "metadata": {},
   "outputs": [],
   "source": [
    "dataset_name = 'CBF'\n",
    "old_model_path = f'../../PretrainModels/TimeSeriesClassifications/FCN/{dataset_name}'\n",
    "device = 'cuda'\n",
    "\n",
    "\n",
    "new_model_dataset_path = f'experiments/{dataset_name}/model/'\n",
    "\n",
    "train_x, test_x, train_y, test_y, enc1 = utils.read_UCR_UEA(dataset_name, None)\n",
    "\n",
    "\n",
    "train_loader, test_loader = generate_loader(train_x, test_x, train_y, test_y,\n",
    "                                            batch_size_train=128,\n",
    "                                            batch_size_test=32)\n",
    "\n",
    "\n",
    "\n",
    "\n",
    "model = FCN(c_in=1, c_out=len(np.unique(np.argmax(train_y,axis=1))))\n",
    "state_dict = torch.load(f'{old_model_path}/weight.pt',map_location=device)\n",
    "model.load_state_dict(state_dict)\n",
    "model.eval()\n",
    "\n",
    "data = {\n",
    "    'train_x': train_x,\n",
    "    'test_x': test_x,\n",
    "    'train_y': train_y,\n",
    "    'test_y': test_y\n",
    "}\n",
    "pickle_save_to_file(data, os.path.join(new_model_dataset_path, 'data.pkl'))\n",
    "\n",
    "torch.save(model.state_dict(), f'{new_model_dataset_path}/weight.pt')\n",
    "\n",
    "test_preds, ground_truth = get_all_preds(model, test_loader, device=device)\n",
    "\n",
    "np.save(f'{new_model_dataset_path}/test_preds.npy', np.array(test_preds))"
   ]
  },
  {
   "cell_type": "code",
   "execution_count": null,
   "id": "f3d6f7e1-fdec-4fc8-a7be-4a7162b05470",
   "metadata": {},
   "outputs": [],
   "source": []
  }
 ],
 "metadata": {
  "kernelspec": {
   "display_name": "XAI2",
   "language": "python",
   "name": "xai2"
  },
  "language_info": {
   "codemirror_mode": {
    "name": "ipython",
    "version": 3
   },
   "file_extension": ".py",
   "mimetype": "text/x-python",
   "name": "python",
   "nbconvert_exporter": "python",
   "pygments_lexer": "ipython3",
   "version": "3.11.9"
  }
 },
 "nbformat": 4,
 "nbformat_minor": 5
}
