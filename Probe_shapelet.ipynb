{
 "cells": [
  {
   "cell_type": "code",
   "execution_count": 2,
   "id": "de3a549f-cf16-48b1-80d9-06bd76857656",
   "metadata": {},
   "outputs": [],
   "source": [
    "%load_ext autoreload\n",
    "%autoreload 3\n",
    "from Probe import get_pdata, probe_shapelet\n",
    "import numpy as np\n",
    "import utils\n",
    "import warnings\n",
    "import torch\n",
    "import pickle\n",
    "import matplotlib.pyplot as plt\n",
    "warnings.filterwarnings(\"ignore\")"
   ]
  },
  {
   "cell_type": "code",
   "execution_count": 3,
   "id": "d42f78a5-b7a9-434b-9af9-1b45772aad03",
   "metadata": {},
   "outputs": [],
   "source": [
    "device = 'cuda' if torch.cuda.is_available else 'cpu'"
   ]
  },
  {
   "cell_type": "code",
   "execution_count": 4,
   "id": "9b3d2376-7786-4621-a860-8f2c24f9bee4",
   "metadata": {},
   "outputs": [],
   "source": [
    "from tsai.models.FCN import FCN\n",
    "model_path = 'models/GunPoint/'\n",
    "model = FCN(c_in=1, c_out=2)\n",
    "state_dict = torch.load(f'{model_path}/weight.pt',map_location='cuda:1')\n",
    "model.load_state_dict(state_dict)\n",
    "model.eval()\n",
    "\n",
    "train_x, test_x, train_y, test_y, enc1 = utils.read_UCR_UEA('GunPoint', None)\n",
    "test_y = np.argmax(test_y, axis=1)\n",
    "train_y = np.argmax(train_y, axis=1)\n",
    "\n",
    "instance_length = train_x.shape[-1]\n",
    "\n",
    "with open(f'shapelets/GunPoint/RSTF.pkl', 'rb') as f:\n",
    "    ST_attribution = pickle.load(f)\n",
    "# pick the first Shapelet\n",
    "info_gain, shapelet_length, start_pos, dimension, inst_index, shapelet_class, z_norm_shapelet = ST_attribution.shapelets[0]"
   ]
  },
  {
   "cell_type": "code",
   "execution_count": 48,
   "id": "adfcf024-f253-4d30-913d-3c1c7f6536e0",
   "metadata": {},
   "outputs": [
    {
     "data": {
      "text/plain": [
       "<matplotlib.legend.Legend at 0x7fa8201bb0d0>"
      ]
     },
     "execution_count": 48,
     "metadata": {},
     "output_type": "execute_result"
    },
    {
     "data": {
      "image/png": "[encoded data removed]",
      "text/plain": [
       "<Figure size 640x480 with 1 Axes>"
      ]
     },
     "metadata": {},
     "output_type": "display_data"
    }
   ],
   "source": [
    "plt.plot(train_x[inst_index].flatten(),label=f'instance{inst_index} class {shapelet_class}')\n",
    "plt.plot(np.arange(start_pos,start_pos+shapelet_length),train_x[inst_index,:,start_pos:start_pos+shapelet_length].flatten(),\n",
    "         linewidth=5,label='shapelet')\n",
    "plt.legend()"
   ]
  },
  {
   "cell_type": "code",
   "execution_count": 49,
   "id": "921f6c4c-6264-4bd8-947a-1f544324360b",
   "metadata": {},
   "outputs": [
    {
     "name": "stdout",
     "output_type": "stream",
     "text": [
      "dealing with ECG200: (100, 1, 96)\n",
      "dealing with Beef: (30, 1, 470)\n",
      "dealing with ElectricDevices: (8926, 1, 96)\n",
      "dealing with Earthquakes: (322, 1, 512)\n",
      "dealing with Wafer: (1000, 1, 152)\n",
      "dealing with PowerCons: (180, 1, 144)\n",
      "dealing with NonInvasiveFetalECGThorax1: (1800, 1, 750)\n",
      "dealing with ECG5000: (500, 1, 140)\n",
      "dealing with GunPoint: (50, 1, 150)\n",
      "dealing with HandOutlines: (1000, 1, 2709)\n",
      "dealing with CBF: (30, 1, 128)\n",
      "dealing with FordA: (3601, 1, 500)\n",
      "dealing with TwoPatterns: (1000, 1, 128)\n",
      "dealing with UWaveGestureLibraryAll: (896, 1, 945)\n",
      "dealing with Chinatown: (20, 1, 24)\n",
      "dealing with Yoga: (300, 1, 426)\n",
      "dealing with DistalPhalanxOutlineCorrect: (600, 1, 80)\n",
      "dealing with Computers: (250, 1, 720)\n",
      "dealing with ShapesAll: (600, 1, 512)\n",
      "dealing with Strawberry: (613, 1, 235)\n"
     ]
    }
   ],
   "source": [
    "pdata = get_pdata(shapelet=z_norm_shapelet, selected_datasets=utils.selected_uni, inst_length=instance_length, \n",
    "                   num_shapelet=1, is_add=False, repeat_max=100,\n",
    "                       is_z_norm=True, save_dir='probe/GunPoint')"
   ]
  },
  {
   "cell_type": "code",
   "execution_count": 6,
   "id": "735d5ca9-b7c2-4340-b58f-ec04660f709e",
   "metadata": {},
   "outputs": [],
   "source": [
    "with open('probe/GunPoint/pdata.pkl','rb') as f:\n",
    "    pdata = pickle.load(f)"
   ]
  },
  {
   "cell_type": "code",
   "execution_count": 9,
   "id": "00d64527-535e-4951-bb54-b6dbf47fc6c0",
   "metadata": {},
   "outputs": [],
   "source": [
    "pdata = np.concatenate((pdata['pdata_ws'],pdata['pdata_wos']), axis=-1)"
   ]
  },
  {
   "cell_type": "code",
   "execution_count": 10,
   "id": "896a0a7a-cb3f-4009-b141-2f34da6e7696",
   "metadata": {},
   "outputs": [
    {
     "name": "stdout",
     "output_type": "stream",
     "text": [
      "18\n"
     ]
    }
   ],
   "source": [
    "print(len(z_norm_shapelet))"
   ]
  },
  {
   "cell_type": "code",
   "execution_count": 18,
   "id": "8cc643da-d157-4a6c-a6a1-63b611f18ded",
   "metadata": {},
   "outputs": [
    {
     "name": "stdout",
     "output_type": "stream",
     "text": [
      "(50, 128) (1730, 128)\n",
      "Training Accuracy = 1.00\n",
      "----------------------\n",
      "Accuracy = 0.04\n",
      "Precision = 0.00\n",
      "Recall = 0.00\n",
      "F1 Score = 0.00\n"
     ]
    }
   ],
   "source": [
    "results = probe_shapelet(dataset=train_x, labels=train_y, pdata=pdata, model=model, \n",
    "                         shapelet=z_norm_shapelet, pos=start_pos, device='cuda:1')"
   ]
  },
  {
   "cell_type": "code",
   "execution_count": null,
   "id": "f21fc758-15e7-44f6-8bdd-c81c38d95c70",
   "metadata": {},
   "outputs": [],
   "source": []
  }
 ],
 "metadata": {
  "kernelspec": {
   "display_name": "XAI2",
   "language": "python",
   "name": "xai2"
  },
  "language_info": {
   "codemirror_mode": {
    "name": "ipython",
    "version": 3
   },
   "file_extension": ".py",
   "mimetype": "text/x-python",
   "name": "python",
   "nbconvert_exporter": "python",
   "pygments_lexer": "ipython3",
   "version": "3.11.9"
  }
 },
 "nbformat": 4,
 "nbformat_minor": 5
}
